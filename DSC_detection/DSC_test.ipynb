{
 "metadata": {
  "kernelspec": {
   "display_name": "Python 2",
   "language": "python",
   "name": "python2"
  },
  "language_info": {
   "codemirror_mode": {
    "name": "ipython",
    "version": 2
   },
   "file_extension": ".py",
   "mimetype": "text/x-python",
   "name": "python",
   "nbconvert_exporter": "python",
   "pygments_lexer": "ipython2",
   "version": "2.7.12"
  },
  "name": "",
  "signature": "sha256:b9466a2a78399603cb4d9c0576c4350ae13cb2ff946fecf78f47f9af47022f7c"
 },
 "nbformat": 3,
 "nbformat_minor": 0,
 "worksheets": [
  {
   "cells": [
    {
     "cell_type": "code",
     "collapsed": true,
     "input": [
      "import numpy as np\n",
      "import matplotlib.pyplot as plt\n",
      "import matplotlib.pylab as pylab\n",
      "import matplotlib.cm as cm\n",
      "import scipy.misc\n",
      "import Image\n",
      "import scipy.io\n",
      "import os\n",
      "import scipy.misc\n",
      "import time\n",
      "\n",
      "\n",
      "\n",
      "%matplotlib inline\n",
      "# Make sure that caffe is on the python path:\n",
      "caffe_root = '../../../'\n",
      "import sys\n",
      "sys.path.insert(0, caffe_root + 'python')\n",
      "\n",
      "import caffe\n",
      "\n",
      "EPSILON = 1e-8"
     ],
     "language": "python",
     "metadata": {},
     "outputs": [],
     "prompt_number": 3
    },
    {
     "cell_type": "code",
     "collapsed": true,
     "input": [
      "def getFileList( p ):\n",
      "        p = str( p )\n",
      "        if p==\"\":\n",
      "              return [ ]\n",
      "        #p = p.replace( \"/\",\"/\")\n",
      "        if p[ -1] != \"/\":\n",
      "             p = p+\"/\"\n",
      "        a = os.listdir( p )\n",
      "        b = [ x   for x in a if os.path.isfile( p + x ) ]\n",
      "        return b\n",
      " \n",
      "    \n",
      "data_root = '/home/xwhu/dataset/SBU-shadow/test/'\n",
      "with open('../../../data/SBU/test.txt') as f: \n",
      "    \n",
      "#data_root = '/home/xwhu/dataset/UCF-shadow/test/'\n",
      "#with open('../../../data/UCF/test.txt') as f: \n",
      "    test_name = f.readlines()\n",
      "    \n",
      "test_lst = [data_root+x.strip() for x in test_name]"
     ],
     "language": "python",
     "metadata": {},
     "outputs": [],
     "prompt_number": 4
    },
    {
     "cell_type": "code",
     "collapsed": true,
     "input": [
      "#remove the following two lines if testing with cpu\n",
      "caffe.set_mode_gpu()\n",
      "# choose which GPU you want to use\n",
      "caffe.set_device(0)\n",
      "caffe.SGDSolver.display = 0\n",
      "# load net\n",
      "net = caffe.Net('deploy.prototxt', 'snapshot/DSC_iter_12000.caffemodel', caffe.TEST)"
     ],
     "language": "python",
     "metadata": {},
     "outputs": [],
     "prompt_number": 5
    },
    {
     "cell_type": "code",
     "collapsed": true,
     "input": [
      "#Visualization\n",
      "def plot_single_scale(scale_lst, name_lst, size):\n",
      "    pylab.rcParams['figure.figsize'] = size, size/2\n",
      "    plt.figure()\n",
      "    for i in range(0, len(scale_lst)):\n",
      "        s = plt.subplot(1,5,i+1)\n",
      "        s.set_xlabel(name_lst[i], fontsize=10)\n",
      "        if name_lst[i] == 'Source':\n",
      "            plt.imshow(scale_lst[i])\n",
      "        else:\n",
      "            plt.imshow(scale_lst[i], cmap = cm.Greys_r)\n",
      "        s.set_xticklabels([])\n",
      "        s.set_yticklabels([])\n",
      "        s.yaxis.set_ticks_position('none')\n",
      "        s.xaxis.set_ticks_position('none')\n",
      "    plt.tight_layout()"
     ],
     "language": "python",
     "metadata": {},
     "outputs": [],
     "prompt_number": 6
    },
    {
     "cell_type": "code",
     "collapsed": false,
     "input": [
      "usedtime = 0;\n",
      "\n",
      "for idx in range(len(test_lst)):\n",
      "\n",
      "    # load image\n",
      "    img = Image.open(test_lst[idx])\n",
      "\n",
      "    img = img.resize((400,400));\n",
      "    if img.mode == 'L':\n",
      "        img_temp = np.zeros((img.size[1], img.size[0], 3))\n",
      "        img_temp[:,:,0] = img\n",
      "        img_temp[:,:,1] = img\n",
      "        img_temp[:,:,2] = img\n",
      "        img = img_temp\n",
      "    \n",
      "    \n",
      "    img = np.array(img, dtype=np.uint8)\n",
      "    im = np.array(img, dtype=np.float32)\n",
      "    im = im[:,:,::-1]\n",
      "    im -= np.array((104.00698793,116.66876762,122.67891434))\n",
      "    im = im.transpose((2,0,1))\n",
      "\n",
      "    # load gt\n",
      "    gt = Image.open(test_lst[idx])\n",
      "\n",
      "    # shape for input (data blob is N x C x H x W), set data\n",
      "    net.blobs['data'].reshape(1, *im.shape)\n",
      "    net.blobs['data'].data[...] = im\n",
      "    # run net and take argmax for prediction\n",
      "    \n",
      "    start_time = time.clock()\n",
      "    net.forward()\n",
      "    usedtime = usedtime + time.clock() - start_time\n",
      "    #avgtime = usedtime/(idx+1)\n",
      "    \n",
      "    out1 = net.blobs['sigmoid-dsn1'].data[0][0,:,:]\n",
      "    out2 = net.blobs['sigmoid-dsn2'].data[0][0,:,:]\n",
      "    out3 = net.blobs['sigmoid-dsn3'].data[0][0,:,:]\n",
      "    out4 = net.blobs['sigmoid-dsn4'].data[0][0,:,:]\n",
      "    out5 = net.blobs['sigmoid-dsn5'].data[0][0,:,:]\n",
      "    out6 = net.blobs['sigmoid-dsn6'].data[0][0,:,:]\n",
      "    fuse = net.blobs['sigmoid-fuse'].data[0][0,:,:]\n",
      "    \n",
      "    glob = net.blobs['sigmoid-global'].data[0][0,:,:]\n",
      "\n",
      "    \n",
      "    res = (glob + fuse) / 2\n",
      " \n",
      "    res = (res - np.min(res) + EPSILON) / (np.max(res) - np.min(res) + EPSILON)\n",
      "    name_lst = ['SO1', 'SO2', 'SO3', 'SO4', 'SO5']\n",
      "    name_lst = ['SO6', 'Fuse', 'Result', 'Source', 'GT']\n",
      " \n",
      "    # save image\n",
      "    scipy.misc.imsave('./result/' + test_name[idx][13:-5] + '.jpg',res)\n",
      "    \n",
      "    if (idx+1)%100 == 0:\n",
      "        print(\"%d / %d, time: %f s\" % (idx+1,len(test_lst),usedtime/(idx+1)))\n",
      "\n",
      "print 'done!'"
     ],
     "language": "python",
     "metadata": {
      "scrolled": false
     },
     "outputs": [
      {
       "output_type": "stream",
       "stream": "stdout",
       "text": [
        "100 / 638, time: 0.167721 s\n"
       ]
      },
      {
       "ename": "KeyboardInterrupt",
       "evalue": "",
       "output_type": "pyerr",
       "traceback": [
        "\u001b[0;31m---------------------------------------------------------------------------\u001b[0m\n\u001b[0;31mKeyboardInterrupt\u001b[0m                         Traceback (most recent call last)",
        "\u001b[0;32m<ipython-input-7-994a56830e3f>\u001b[0m in \u001b[0;36m<module>\u001b[0;34m()\u001b[0m\n\u001b[1;32m     30\u001b[0m \u001b[0;34m\u001b[0m\u001b[0m\n\u001b[1;32m     31\u001b[0m     \u001b[0mstart_time\u001b[0m \u001b[0;34m=\u001b[0m \u001b[0mtime\u001b[0m\u001b[0;34m.\u001b[0m\u001b[0mclock\u001b[0m\u001b[0;34m(\u001b[0m\u001b[0;34m)\u001b[0m\u001b[0;34m\u001b[0m\u001b[0m\n\u001b[0;32m---> 32\u001b[0;31m     \u001b[0mnet\u001b[0m\u001b[0;34m.\u001b[0m\u001b[0mforward\u001b[0m\u001b[0;34m(\u001b[0m\u001b[0;34m)\u001b[0m\u001b[0;34m\u001b[0m\u001b[0m\n\u001b[0m\u001b[1;32m     33\u001b[0m     \u001b[0musedtime\u001b[0m \u001b[0;34m=\u001b[0m \u001b[0musedtime\u001b[0m \u001b[0;34m+\u001b[0m \u001b[0mtime\u001b[0m\u001b[0;34m.\u001b[0m\u001b[0mclock\u001b[0m\u001b[0;34m(\u001b[0m\u001b[0;34m)\u001b[0m \u001b[0;34m-\u001b[0m \u001b[0mstart_time\u001b[0m\u001b[0;34m\u001b[0m\u001b[0m\n\u001b[1;32m     34\u001b[0m     \u001b[0;31m#avgtime = usedtime/(idx+1)\u001b[0m\u001b[0;34m\u001b[0m\u001b[0;34m\u001b[0m\u001b[0m\n",
        "\u001b[0;32m/home/xwhu/CF-caffe/python/caffe/pycaffe.pyc\u001b[0m in \u001b[0;36m_Net_forward\u001b[0;34m(self, blobs, start, end, **kwargs)\u001b[0m\n\u001b[1;32m    119\u001b[0m             \u001b[0mself\u001b[0m\u001b[0;34m.\u001b[0m\u001b[0mblobs\u001b[0m\u001b[0;34m[\u001b[0m\u001b[0min_\u001b[0m\u001b[0;34m]\u001b[0m\u001b[0;34m.\u001b[0m\u001b[0mdata\u001b[0m\u001b[0;34m[\u001b[0m\u001b[0;34m.\u001b[0m\u001b[0;34m.\u001b[0m\u001b[0;34m.\u001b[0m\u001b[0;34m]\u001b[0m \u001b[0;34m=\u001b[0m \u001b[0mblob\u001b[0m\u001b[0;34m\u001b[0m\u001b[0m\n\u001b[1;32m    120\u001b[0m \u001b[0;34m\u001b[0m\u001b[0m\n\u001b[0;32m--> 121\u001b[0;31m     \u001b[0mself\u001b[0m\u001b[0;34m.\u001b[0m\u001b[0m_forward\u001b[0m\u001b[0;34m(\u001b[0m\u001b[0mstart_ind\u001b[0m\u001b[0;34m,\u001b[0m \u001b[0mend_ind\u001b[0m\u001b[0;34m)\u001b[0m\u001b[0;34m\u001b[0m\u001b[0m\n\u001b[0m\u001b[1;32m    122\u001b[0m \u001b[0;34m\u001b[0m\u001b[0m\n\u001b[1;32m    123\u001b[0m     \u001b[0;31m# Unpack blobs to extract\u001b[0m\u001b[0;34m\u001b[0m\u001b[0;34m\u001b[0m\u001b[0m\n",
        "\u001b[0;31mKeyboardInterrupt\u001b[0m: "
       ]
      }
     ],
     "prompt_number": 7
    },
    {
     "cell_type": "code",
     "collapsed": true,
     "input": [],
     "language": "python",
     "metadata": {},
     "outputs": []
    },
    {
     "cell_type": "code",
     "collapsed": true,
     "input": [],
     "language": "python",
     "metadata": {},
     "outputs": []
    },
    {
     "cell_type": "code",
     "collapsed": true,
     "input": [],
     "language": "python",
     "metadata": {},
     "outputs": []
    },
    {
     "cell_type": "code",
     "collapsed": true,
     "input": [],
     "language": "python",
     "metadata": {},
     "outputs": []
    },
    {
     "cell_type": "code",
     "collapsed": true,
     "input": [],
     "language": "python",
     "metadata": {},
     "outputs": []
    },
    {
     "cell_type": "code",
     "collapsed": true,
     "input": [],
     "language": "python",
     "metadata": {},
     "outputs": []
    }
   ],
   "metadata": {}
  }
 ]
}